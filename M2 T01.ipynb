{
 "cells": [
  {
   "cell_type": "markdown",
   "id": "6523a316",
   "metadata": {},
   "source": [
    "# Exercici 1"
   ]
  },
  {
   "cell_type": "code",
   "execution_count": 1,
   "id": "1b76b2e5",
   "metadata": {},
   "outputs": [
    {
     "data": {
      "text/plain": [
       "[['gener', 'febrer', 'març'],\n",
       " ['abril', 'maig', 'juny'],\n",
       " ['juliol', 'agost', 'setembre'],\n",
       " ['octubre', 'novembre', 'decembre']]"
      ]
     },
     "execution_count": 1,
     "metadata": {},
     "output_type": "execute_result"
    }
   ],
   "source": [
    "T1 = [\"gener\", \"febrer\", \"març\"]\n",
    "T2 = [\"abril\", \"maig\", \"juny\"]\n",
    "T3 = [\"juliol\", \"agost\", \"setembre\"]\n",
    "T4 = [\"octubre\", \"novembre\", \"decembre\"]\n",
    "mesos = [T1, T2, T3, T4]\n",
    "mesos"
   ]
  },
  {
   "cell_type": "markdown",
   "id": "7af02cbc",
   "metadata": {},
   "source": [
    "# Exercici 2"
   ]
  },
  {
   "cell_type": "code",
   "execution_count": 2,
   "id": "f5c9c5c3",
   "metadata": {},
   "outputs": [
    {
     "data": {
      "text/plain": [
       "'febrer'"
      ]
     },
     "execution_count": 2,
     "metadata": {},
     "output_type": "execute_result"
    }
   ],
   "source": [
    "T1[1]"
   ]
  },
  {
   "cell_type": "code",
   "execution_count": 30,
   "id": "5474c619",
   "metadata": {},
   "outputs": [
    {
     "data": {
      "text/plain": [
       "['gener', 'febrer', 'març']"
      ]
     },
     "execution_count": 30,
     "metadata": {},
     "output_type": "execute_result"
    }
   ],
   "source": [
    "T1"
   ]
  },
  {
   "cell_type": "code",
   "execution_count": 3,
   "id": "a03eda55",
   "metadata": {},
   "outputs": [
    {
     "name": "stdout",
     "output_type": "stream",
     "text": [
      "setembre octubre\n"
     ]
    }
   ],
   "source": [
    "print(mesos[2][2], mesos[3][0])\n"
   ]
  },
  {
   "cell_type": "markdown",
   "id": "07e310df",
   "metadata": {},
   "source": [
    "# Exercici 3"
   ]
  },
  {
   "cell_type": "code",
   "execution_count": 4,
   "id": "2173192b",
   "metadata": {},
   "outputs": [
    {
     "name": "stdout",
     "output_type": "stream",
     "text": [
      "[46, 5, 2, 24, 43, 31, 29, 32, 23, 6, 8, 32, 49, 11, 12, 2, 33, 46, 12, 46, 1, 1, 3, 48, 43, 27, 16, 43, 29, 46, 37, 39, 6, 48, 20, 20, 27, 48, 28, 28, 29, 30, 4, 18, 32, 42, 28, 38, 24, 28]\n"
     ]
    }
   ],
   "source": [
    "from random import randint \n",
    "nombres = [randint(1,50) for i in range(0,50)]\n",
    "print(nombres)"
   ]
  },
  {
   "cell_type": "code",
   "execution_count": 5,
   "id": "96824524",
   "metadata": {},
   "outputs": [
    {
     "name": "stdout",
     "output_type": "stream",
     "text": [
      "50\n"
     ]
    }
   ],
   "source": [
    "print(len(nombres))"
   ]
  },
  {
   "cell_type": "code",
   "execution_count": 6,
   "id": "94e566e9",
   "metadata": {},
   "outputs": [
    {
     "data": {
      "text/plain": [
       "1"
      ]
     },
     "execution_count": 6,
     "metadata": {},
     "output_type": "execute_result"
    }
   ],
   "source": [
    "nombres.count(3)"
   ]
  },
  {
   "cell_type": "code",
   "execution_count": 7,
   "id": "c7deb026",
   "metadata": {},
   "outputs": [
    {
     "data": {
      "text/plain": [
       "1"
      ]
     },
     "execution_count": 7,
     "metadata": {},
     "output_type": "execute_result"
    }
   ],
   "source": [
    "nombres.count(4)"
   ]
  },
  {
   "cell_type": "code",
   "execution_count": 8,
   "id": "a243be7f",
   "metadata": {},
   "outputs": [
    {
     "data": {
      "text/plain": [
       "2"
      ]
     },
     "execution_count": 8,
     "metadata": {},
     "output_type": "execute_result"
    }
   ],
   "source": [
    "nombres.count(3) + nombres.count(4)"
   ]
  },
  {
   "cell_type": "code",
   "execution_count": 9,
   "id": "114a0d91",
   "metadata": {},
   "outputs": [
    {
     "name": "stdout",
     "output_type": "stream",
     "text": [
      "49\n"
     ]
    }
   ],
   "source": [
    "maxim = max(nombres)\n",
    "print(maxim)"
   ]
  },
  {
   "cell_type": "code",
   "execution_count": 10,
   "id": "26643c1d",
   "metadata": {},
   "outputs": [
    {
     "name": "stdout",
     "output_type": "stream",
     "text": [
      "[1, 1, 2]\n"
     ]
    }
   ],
   "source": [
    "import heapq\n",
    "print(heapq.nsmallest(3, nombres))\n"
   ]
  },
  {
   "cell_type": "code",
   "execution_count": 11,
   "id": "94cc1769",
   "metadata": {},
   "outputs": [
    {
     "data": {
      "text/plain": [
       "48"
      ]
     },
     "execution_count": 11,
     "metadata": {},
     "output_type": "execute_result"
    }
   ],
   "source": [
    "rang =max(nombres) - min(nombres)\n",
    "rang"
   ]
  },
  {
   "cell_type": "markdown",
   "id": "24235ccd",
   "metadata": {},
   "source": [
    "# Exercici 4"
   ]
  },
  {
   "cell_type": "code",
   "execution_count": 24,
   "id": "f3fb0527",
   "metadata": {},
   "outputs": [
    {
     "name": "stdout",
     "output_type": "stream",
     "text": [
      "{'Pomes': {'Qty': 5, '€': 0.42}, 'Peres': {'Qty': 3, '€': 0.66}}\n"
     ]
    }
   ],
   "source": [
    "compra = { \"Pomes\" : {\"Qty\": 5, \"€\": 0.42}, \"Peres\" : {\"Qty\": 3, \"€\": 0.66} }\n",
    "print(compra)"
   ]
  },
  {
   "cell_type": "code",
   "execution_count": 27,
   "id": "723181d3",
   "metadata": {},
   "outputs": [
    {
     "data": {
      "text/plain": [
       "{'Pomes': {'Qty': 5, '€': 0.42},\n",
       " 'Peres': {'Qty': 5, '€': 0.25},\n",
       " 'Platans': {'Qty': 4, '€': 0.25}}"
      ]
     },
     "execution_count": 27,
     "metadata": {},
     "output_type": "execute_result"
    }
   ],
   "source": [
    "compra[\"Platans\"] = {\"Qty\" : 4, \"€\": 0.25}\n",
    "(compra)"
   ]
  },
  {
   "cell_type": "code",
   "execution_count": 28,
   "id": "c4e1b0bd",
   "metadata": {},
   "outputs": [
    {
     "name": "stdout",
     "output_type": "stream",
     "text": [
      "{'Pomes': {'Qty': 5, '€': 0.42}, 'Peres': {'Qty': 5, '€': 0.25}, 'Platans': {'Qty': 4, '€': 0.25}}\n"
     ]
    }
   ],
   "source": [
    "print(compra)"
   ]
  },
  {
   "cell_type": "code",
   "execution_count": 33,
   "id": "87fd5b66",
   "metadata": {},
   "outputs": [
    {
     "data": {
      "text/plain": [
       "1.25"
      ]
     },
     "execution_count": 33,
     "metadata": {},
     "output_type": "execute_result"
    }
   ],
   "source": [
    "compra[\"Peres\"][\"Qty\"]*compra[\"Peres\"][\"€\"]\n"
   ]
  },
  {
   "cell_type": "code",
   "execution_count": 34,
   "id": "bcc90de5",
   "metadata": {},
   "outputs": [
    {
     "data": {
      "text/plain": [
       "10"
      ]
     },
     "execution_count": 34,
     "metadata": {},
     "output_type": "execute_result"
    }
   ],
   "source": [
    "compra[\"Pomes\"][\"Qty\"]+compra[\"Peres\"][\"Qty\"]"
   ]
  },
  {
   "cell_type": "code",
   "execution_count": 35,
   "id": "39287376",
   "metadata": {},
   "outputs": [
    {
     "data": {
      "text/plain": [
       "14"
      ]
     },
     "execution_count": 35,
     "metadata": {},
     "output_type": "execute_result"
    }
   ],
   "source": [
    "compra[\"Pomes\"][\"Qty\"]+compra[\"Peres\"][\"Qty\"]+compra[\"Platans\"][\"Qty\"]"
   ]
  },
  {
   "cell_type": "code",
   "execution_count": 43,
   "id": "e98688ab",
   "metadata": {},
   "outputs": [
    {
     "data": {
      "text/plain": [
       "0.42"
      ]
     },
     "execution_count": 43,
     "metadata": {},
     "output_type": "execute_result"
    }
   ],
   "source": [
    "max(compra[\"Peres\"][\"€\"], compra[\"Pomes\"][\"€\"], compra[\"Platans\"][\"€\"])"
   ]
  },
  {
   "cell_type": "code",
   "execution_count": 54,
   "id": "2cb8c8af",
   "metadata": {},
   "outputs": [
    {
     "data": {
      "text/plain": [
       "'Pomes'"
      ]
     },
     "execution_count": 54,
     "metadata": {},
     "output_type": "execute_result"
    }
   ],
   "source": [
    "max(compra)"
   ]
  },
  {
   "cell_type": "code",
   "execution_count": null,
   "id": "bb7a723e",
   "metadata": {},
   "outputs": [],
   "source": []
  }
 ],
 "metadata": {
  "kernelspec": {
   "display_name": "Python 3 (ipykernel)",
   "language": "python",
   "name": "python3"
  },
  "language_info": {
   "codemirror_mode": {
    "name": "ipython",
    "version": 3
   },
   "file_extension": ".py",
   "mimetype": "text/x-python",
   "name": "python",
   "nbconvert_exporter": "python",
   "pygments_lexer": "ipython3",
   "version": "3.11.4"
  }
 },
 "nbformat": 4,
 "nbformat_minor": 5
}
